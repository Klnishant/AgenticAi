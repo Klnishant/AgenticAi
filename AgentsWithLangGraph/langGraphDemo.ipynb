{
 "cells": [
  {
   "cell_type": "code",
   "execution_count": 1,
   "id": "aefc2e53",
   "metadata": {},
   "outputs": [],
   "source": [
    "import os\n",
    "from dotenv import load_dotenv, find_dotenv\n",
    "\n",
    "_ = load_dotenv(find_dotenv())"
   ]
  },
  {
   "cell_type": "code",
   "execution_count": 2,
   "id": "58205f13",
   "metadata": {},
   "outputs": [],
   "source": [
    "GROQ_API_KEY = os.environ.get(\"GROQ_API_KEY\")\n",
    "TAVILY_API_KEY = os.environ.get(\"TAVILY_API_KEY\")"
   ]
  },
  {
   "cell_type": "code",
   "execution_count": 3,
   "id": "ed880d04",
   "metadata": {},
   "outputs": [],
   "source": [
    "from langchain_groq import ChatGroq\n",
    "\n",
    "llm = ChatGroq(model=\"llama-3.1-8b-instant\")"
   ]
  },
  {
   "cell_type": "code",
   "execution_count": 7,
   "id": "d92f740b",
   "metadata": {},
   "outputs": [],
   "source": [
    "from langchain_community.tools.tavily_search import TavilySearchResults\n",
    "\n",
    "tavily = TavilySearchResults(max_results=3)\n",
    "tools = [tavily]"
   ]
  },
  {
   "cell_type": "code",
   "execution_count": 8,
   "id": "cb2230a9",
   "metadata": {},
   "outputs": [
    {
     "data": {
      "text/plain": [
       "[TavilySearchResults(max_results=3)]"
      ]
     },
     "execution_count": 8,
     "metadata": {},
     "output_type": "execute_result"
    }
   ],
   "source": [
    "tools"
   ]
  },
  {
   "cell_type": "code",
   "execution_count": 9,
   "id": "e9fed9c1",
   "metadata": {},
   "outputs": [
    {
     "data": {
      "text/plain": [
       "[{'url': 'https://www.iplt20.com/news/4241/tata-ipl-2025-final-rcb-vs-pbks-match-report',\n",
       "  'content': 'In a game that was most fitting for a final, Royal Challengers Bengaluru (RCB) managed to keep their nerves to beat Punjab Kings (PBKS) by six runs. With both teams in Red fighting for their maiden title, there was always going to be joy on one side and heartbreak on the other.\\n\\n[A post shared by IPL (@iplt20)](https://www.instagram.com/p/DKcp_XQy11x/?utm_source=ig_embed&utm_campaign=loading) [...] [A post shared by IPL (@iplt20)](https://www.instagram.com/reel/DKctxlhh18m/?utm_source=ig_embed&utm_campaign=loading)\\n\\nSet 191 to win, it initially seemed a total under par, especially when PBKS managed to reach 70 at the end of the 8th over and seemed totally in control, thanks to a quick start by their openers, Priyansh and Prabhsimran, before Hazelwood good rid of Priyansh for 24 and then Inglis taking over and continued to keep the momentum going. [...] In a game that was most fitting for a final, Royal Challengers Bengaluru (RCB) managed to keep their nerves to beat Punjab Kings (PBKS) by six runs. With both teams in Red fighting for their maiden title, there was always going to be joy on one side and heartbreak on the other.\\n\\n> View this post on Instagram\\n>\\n> [A post shared by IPL (@iplt20)](https://www.instagram.com/p/DKcp_XQy11x/?utm_source=ig_embed&utm_campaign=loading)'},\n",
       " {'url': 'https://www.olympics.com/en/news/ipl-2025-results-cricket-scores-standings-points-table-net-run-rate',\n",
       "  'content': 'The [**IPL 2025**](https://www.olympics.com/en/news/indian-premier-league-ipl-2025-schedule-match-list) concluded on June 3 with Royal Challengers Bengaluru defeating Punjab Kings in the final to lift their maiden title.\\n\\nThis was the 18th edition of the [**Indian Premier League**](https://www.olympics.com/en/news/indian-premier-league-ipl-winners-list-champions) - the world’s most lucrative franchise-based T20 league.\\n\\nRCB became the eighth team to win the IPL trophy. [...] The top two teams - PBKS and RCB - battled it out in Qualifier 1, with the Royal Challengers winning it to earn a direct ticket to the final.\\n\\nHowever, PBKS ended up joining RCB in the finale after defeating MI, who defeated GT in the Eliminator.\\n\\nOverall, MI and CSK are the most successful teams in the IPL with five titles each, followed by KKR with three. RCB, SRH, RR, GT and the now-defunct Deccan Chargers are the other teams who have won the title.'},\n",
       " {'url': 'https://en.wikipedia.org/wiki/2025_Indian_Premier_League',\n",
       "  'content': '242/6 (20 overs)\\n[Ishan Kishan](https://en.wikipedia.org/wiki/Ishan_Kishan \"Ishan Kishan\") 106[*](https://en.wikipedia.org/wiki/Not_out \"Not out\") (47) \\n\\n[Tushar Deshpande](https://en.wikipedia.org/wiki/Tushar_Deshpande \"Tushar Deshpande\") 3/44 (4 overs)[Dhruv Jurel](https://en.wikipedia.org/wiki/Dhruv_Jurel \"Dhruv Jurel\") 70 (35) \\n\\n[Harshal Patel](https://en.wikipedia.org/wiki/Harshal_Patel \"Harshal Patel\") 2/34 (4 overs)\\n\\n**Sunrisers Hyderabad won by 44 runs** [...] **[Eliminator](https://en.wikipedia.org/wiki/2025_Indian_Premier_League#Eliminator)**EW[Mumbai Indians](https://en.wikipedia.org/wiki/Mumbai_Indians \"Mumbai Indians\")203/6 (20 overs)\\n\\n30 May 2025 – [Mullanpur](https://en.wikipedia.org/wiki/Maharaja_Yadavindra_Singh_International_Cricket_Stadium \"Maharaja Yadavindra Singh International Cricket Stadium\")\\n\\n3[Gujarat Titans](https://en.wikipedia.org/wiki/Gujarat_Titans \"Gujarat Titans\")208/6 (20 overs) [...] Main article: [2025 Indian Premier League final](https://en.wikipedia.org/wiki/2025_Indian_Premier_League_final \"2025 Indian Premier League final\")\\n\\n**Final**\\n\\n 3 June 2025(2025-06-03)\\n\\n19:30 ([N](https://en.wikipedia.org/wiki/Day/night_cricket \"Day/night cricket\")) \\n\\n[Scorecard](https://www.espncricinfo.com/ci/engine/match/1473511.html)\\n\\n**[Royal Challengers Bengaluru](https://en.wikipedia.org/wiki/Royal_Challengers_Bengaluru \"Royal Challengers Bengaluru\")**'}]"
      ]
     },
     "execution_count": 9,
     "metadata": {},
     "output_type": "execute_result"
    }
   ],
   "source": [
    "tavily.invoke({\"query\": \"who is the winner of tata ipl 2025\"})"
   ]
  },
  {
   "cell_type": "code",
   "execution_count": 10,
   "id": "05979eaa",
   "metadata": {},
   "outputs": [],
   "source": [
    "from langgraph.prebuilt import create_react_agent\n",
    "agent = create_react_agent(llm, tools)"
   ]
  },
  {
   "cell_type": "code",
   "execution_count": 13,
   "id": "a1b2751d",
   "metadata": {},
   "outputs": [],
   "source": [
    "from langchain_core.messages import HumanMessage\n",
    "\n",
    "result = agent.invoke(\n",
    "    {\"messages\": HumanMessage(content=\"who is the winner of tata ipl 2025\")}\n",
    ")"
   ]
  },
  {
   "cell_type": "code",
   "execution_count": 15,
   "id": "230e471e",
   "metadata": {},
   "outputs": [
    {
     "data": {
      "text/plain": [
       "{'messages': [HumanMessage(content='who is the winner of tata ipl 2025', id='84e04193-b802-43c3-83c3-e2459af6b9f1'),\n",
       "  AIMessage(content='', additional_kwargs={'tool_calls': [{'id': 'call_3n6s', 'function': {'arguments': '{\"query\":\"tata ipl 2025 winner\"}', 'name': 'tavily_search_results_json'}, 'type': 'function'}]}, response_metadata={'token_usage': {'completion_tokens': 25, 'prompt_tokens': 290, 'total_tokens': 315, 'completion_time': 0.037814595, 'prompt_time': 0.017272476, 'queue_time': 0.04619627700000001, 'total_time': 0.055087071}, 'model_name': 'llama-3.1-8b-instant', 'system_fingerprint': 'fp_510c177af0', 'finish_reason': 'tool_calls', 'logprobs': None}, id='run-3787aff2-809c-44d6-be48-faea1264ecd2-0', tool_calls=[{'name': 'tavily_search_results_json', 'args': {'query': 'tata ipl 2025 winner'}, 'id': 'call_3n6s', 'type': 'tool_call'}], usage_metadata={'input_tokens': 290, 'output_tokens': 25, 'total_tokens': 315}),\n",
       "  ToolMessage(content='[{\"url\": \"https://www.iplt20.com/news/4241/tata-ipl-2025-final-rcb-vs-pbks-match-report\", \"content\": \"[A post shared by IPL (@iplt20)](https://www.instagram.com/reel/DKctxlhh18m/?utm_source=ig_embed&utm_campaign=loading)\\\\n\\\\nSet 191 to win, it initially seemed a total under par, especially when PBKS managed to reach 70 at the end of the 8th over and seemed totally in control, thanks to a quick start by their openers, Priyansh and Prabhsimran, before Hazelwood good rid of Priyansh for 24 and then Inglis taking over and continued to keep the momentum going. [...] > View this post on Instagram\\\\n>\\\\n> [A post shared by IPL (@iplt20)](https://www.instagram.com/reel/DKctxlhh18m/?utm_source=ig_embed&utm_campaign=loading)\\\\n\\\\nSet 191 to win, it initially seemed a total under par, especially when PBKS managed to reach 70 at the end of the 8th over and seemed totally in control, thanks to a quick start by their openers, Priyansh and Prabhsimran, before Hazelwood good rid of Priyansh for 24 and then Inglis taking over and continued to keep the momentum going. [...] [A post shared by IPL (@iplt20)](https://www.instagram.com/p/DKcdotbsY8t/?utm_source=ig_embed&utm_campaign=loading)\\\\n\\\\nIn the end, the aggressive 24 of 10 balls cameo from Jitesh could be said to have been the main difference between the sides, which is shown by the winning margin of just 6 runs.\"}, {\"url\": \"https://www.jagranjosh.com/general-knowledge/list-of-all-ipl-winner-teams-1527686257-1\", \"content\": \"**[IPL 2025 Purple Cap Holder – Most Wickets in Tata IPL](https://www.jagranjosh.com/general-knowledge/ipl-2025-purple-cap-holder-most-wickets-in-tata-ipl-1742659516-1)**\\\\n\\\\n![Mrigank Chakraborty](data:image/gif;base64,R0lGODlhAQABAIAAAAAAAP///yH5BAEAAAAALAAAAAABAAEAAAIBRAA7)\\\\n![Mrigank Chakraborty](https://img.jagranjosh.com//authors/Mriganka-Chakraborty.jpg)\\\\n\\\\nAssistant Manager\"}, {\"url\": \"https://www.espncricinfo.com/series/ipl-2025-1449924\", \"content\": \"![Image 59: AskESPNcricinfo Logo](https://wassets.hscicdn.com/static/images/lazyimage-noaspect.svg)\\\\n\\\\nWinner\\\\n\\\\n[Royal Challengers Bengaluru](https://www.espncricinfo.com/team/royal-challengers-bengaluru-335970 \\\\\"Royal Challengers Bengaluru\\\\\") [...] [![Image 67: AskESPNcricinfo Logo](https://wassets.hscicdn.com/static/images/lazyimage-noaspect.svg) Kohli and Hazlewood finish at No. 3 on IPL 2025 Orange and Purple Cap tables respectively ----------------------------------------------------------------------------------------- B Sai Sudharsan and Prasidh Krishna won the Orange and Purple Caps respectively at the end of IPL\"}]', name='tavily_search_results_json', id='f905a6d7-b558-4ade-9a29-e027f5a6818d', tool_call_id='call_3n6s'),\n",
       "  AIMessage(content='The winner of the Tata IPL 2025 is Royal Challengers Bengaluru.', response_metadata={'token_usage': {'completion_tokens': 17, 'prompt_tokens': 1065, 'total_tokens': 1082, 'completion_time': 0.023342385, 'prompt_time': 0.066638288, 'queue_time': 0.046479231999999995, 'total_time': 0.089980673}, 'model_name': 'llama-3.1-8b-instant', 'system_fingerprint': 'fp_55d70a61e4', 'finish_reason': 'stop', 'logprobs': None}, id='run-3bb1bbee-b1ed-4666-a16f-22d2cc4e96bc-0', usage_metadata={'input_tokens': 1065, 'output_tokens': 17, 'total_tokens': 1082})]}"
      ]
     },
     "execution_count": 15,
     "metadata": {},
     "output_type": "execute_result"
    }
   ],
   "source": [
    "result"
   ]
  },
  {
   "cell_type": "code",
   "execution_count": 17,
   "id": "6ddaba42",
   "metadata": {},
   "outputs": [
    {
     "data": {
      "text/plain": [
       "[HumanMessage(content='who is the winner of tata ipl 2025', id='84e04193-b802-43c3-83c3-e2459af6b9f1'),\n",
       " AIMessage(content='', additional_kwargs={'tool_calls': [{'id': 'call_3n6s', 'function': {'arguments': '{\"query\":\"tata ipl 2025 winner\"}', 'name': 'tavily_search_results_json'}, 'type': 'function'}]}, response_metadata={'token_usage': {'completion_tokens': 25, 'prompt_tokens': 290, 'total_tokens': 315, 'completion_time': 0.037814595, 'prompt_time': 0.017272476, 'queue_time': 0.04619627700000001, 'total_time': 0.055087071}, 'model_name': 'llama-3.1-8b-instant', 'system_fingerprint': 'fp_510c177af0', 'finish_reason': 'tool_calls', 'logprobs': None}, id='run-3787aff2-809c-44d6-be48-faea1264ecd2-0', tool_calls=[{'name': 'tavily_search_results_json', 'args': {'query': 'tata ipl 2025 winner'}, 'id': 'call_3n6s', 'type': 'tool_call'}], usage_metadata={'input_tokens': 290, 'output_tokens': 25, 'total_tokens': 315}),\n",
       " ToolMessage(content='[{\"url\": \"https://www.iplt20.com/news/4241/tata-ipl-2025-final-rcb-vs-pbks-match-report\", \"content\": \"[A post shared by IPL (@iplt20)](https://www.instagram.com/reel/DKctxlhh18m/?utm_source=ig_embed&utm_campaign=loading)\\\\n\\\\nSet 191 to win, it initially seemed a total under par, especially when PBKS managed to reach 70 at the end of the 8th over and seemed totally in control, thanks to a quick start by their openers, Priyansh and Prabhsimran, before Hazelwood good rid of Priyansh for 24 and then Inglis taking over and continued to keep the momentum going. [...] > View this post on Instagram\\\\n>\\\\n> [A post shared by IPL (@iplt20)](https://www.instagram.com/reel/DKctxlhh18m/?utm_source=ig_embed&utm_campaign=loading)\\\\n\\\\nSet 191 to win, it initially seemed a total under par, especially when PBKS managed to reach 70 at the end of the 8th over and seemed totally in control, thanks to a quick start by their openers, Priyansh and Prabhsimran, before Hazelwood good rid of Priyansh for 24 and then Inglis taking over and continued to keep the momentum going. [...] [A post shared by IPL (@iplt20)](https://www.instagram.com/p/DKcdotbsY8t/?utm_source=ig_embed&utm_campaign=loading)\\\\n\\\\nIn the end, the aggressive 24 of 10 balls cameo from Jitesh could be said to have been the main difference between the sides, which is shown by the winning margin of just 6 runs.\"}, {\"url\": \"https://www.jagranjosh.com/general-knowledge/list-of-all-ipl-winner-teams-1527686257-1\", \"content\": \"**[IPL 2025 Purple Cap Holder – Most Wickets in Tata IPL](https://www.jagranjosh.com/general-knowledge/ipl-2025-purple-cap-holder-most-wickets-in-tata-ipl-1742659516-1)**\\\\n\\\\n![Mrigank Chakraborty](data:image/gif;base64,R0lGODlhAQABAIAAAAAAAP///yH5BAEAAAAALAAAAAABAAEAAAIBRAA7)\\\\n![Mrigank Chakraborty](https://img.jagranjosh.com//authors/Mriganka-Chakraborty.jpg)\\\\n\\\\nAssistant Manager\"}, {\"url\": \"https://www.espncricinfo.com/series/ipl-2025-1449924\", \"content\": \"![Image 59: AskESPNcricinfo Logo](https://wassets.hscicdn.com/static/images/lazyimage-noaspect.svg)\\\\n\\\\nWinner\\\\n\\\\n[Royal Challengers Bengaluru](https://www.espncricinfo.com/team/royal-challengers-bengaluru-335970 \\\\\"Royal Challengers Bengaluru\\\\\") [...] [![Image 67: AskESPNcricinfo Logo](https://wassets.hscicdn.com/static/images/lazyimage-noaspect.svg) Kohli and Hazlewood finish at No. 3 on IPL 2025 Orange and Purple Cap tables respectively ----------------------------------------------------------------------------------------- B Sai Sudharsan and Prasidh Krishna won the Orange and Purple Caps respectively at the end of IPL\"}]', name='tavily_search_results_json', id='f905a6d7-b558-4ade-9a29-e027f5a6818d', tool_call_id='call_3n6s'),\n",
       " AIMessage(content='The winner of the Tata IPL 2025 is Royal Challengers Bengaluru.', response_metadata={'token_usage': {'completion_tokens': 17, 'prompt_tokens': 1065, 'total_tokens': 1082, 'completion_time': 0.023342385, 'prompt_time': 0.066638288, 'queue_time': 0.046479231999999995, 'total_time': 0.089980673}, 'model_name': 'llama-3.1-8b-instant', 'system_fingerprint': 'fp_55d70a61e4', 'finish_reason': 'stop', 'logprobs': None}, id='run-3bb1bbee-b1ed-4666-a16f-22d2cc4e96bc-0', usage_metadata={'input_tokens': 1065, 'output_tokens': 17, 'total_tokens': 1082})]"
      ]
     },
     "execution_count": 17,
     "metadata": {},
     "output_type": "execute_result"
    }
   ],
   "source": [
    "result[\"messages\"]"
   ]
  },
  {
   "cell_type": "code",
   "execution_count": 18,
   "id": "0b39cd35",
   "metadata": {},
   "outputs": [],
   "source": [
    "from langgraph.checkpoint.memory import MemorySaver\n",
    "\n",
    "memory_saver = MemorySaver()"
   ]
  },
  {
   "cell_type": "code",
   "execution_count": 19,
   "id": "0cdaeb96",
   "metadata": {},
   "outputs": [],
   "source": [
    "agent = create_react_agent(llm, tools, checkpointer=memory_saver)"
   ]
  },
  {
   "cell_type": "code",
   "execution_count": 20,
   "id": "c4c6f7e0",
   "metadata": {},
   "outputs": [],
   "source": [
    "config = {\"configurable\": {\"thread_id\": \"001\"}}"
   ]
  },
  {
   "cell_type": "code",
   "execution_count": 21,
   "id": "f3a02e5e",
   "metadata": {},
   "outputs": [
    {
     "name": "stdout",
     "output_type": "stream",
     "text": [
      "{'agent': {'messages': [AIMessage(content='', additional_kwargs={'tool_calls': [{'id': 'call_s3y2', 'function': {'arguments': '{\"query\":\"2024 soccer Eurocup winner\"}', 'name': 'tavily_search_results_json'}, 'type': 'function'}]}, response_metadata={'token_usage': {'completion_tokens': 23, 'prompt_tokens': 288, 'total_tokens': 311, 'completion_time': 0.030666667, 'prompt_time': 0.016986173, 'queue_time': 0.045564846, 'total_time': 0.04765284}, 'model_name': 'llama-3.1-8b-instant', 'system_fingerprint': 'fp_510c177af0', 'finish_reason': 'tool_calls', 'logprobs': None}, id='run-8e84b231-6e81-4fd4-948b-2f81fa5019b4-0', tool_calls=[{'name': 'tavily_search_results_json', 'args': {'query': '2024 soccer Eurocup winner'}, 'id': 'call_s3y2', 'type': 'tool_call'}], usage_metadata={'input_tokens': 288, 'output_tokens': 23, 'total_tokens': 311})]}}\n",
      "----\n",
      "{'tools': {'messages': [ToolMessage(content='[{\"url\": \"https://edition.cnn.com/2024/07/14/sport/spain-england-euro-2024-final-spt-intl\", \"content\": \"Published Time: 2024-07-14T20:53:58.840Z\\\\n\\\\nSpain wins Euro 2024, defeating England 2-1 in a dramatic final to claim record fourth European Championship | CNN\\\\n\\\\n===============\\\\n[](https://edition.cnn.com/2024/07/14/sport/spain-england-euro-2024-final-spt-intl#maincontent)\\\\n\\\\n### CNN values your feedback\\\\n\\\\n 1. How relevant is this ad to you? \\\\n\\\\n 2. Did you encounter any technical issues? \\\\n\\\\n- [x]  No [...] [Live TV](https://edition.cnn.com/live-tv)[Listen](https://edition.cnn.com/audio)[Watch](https://edition.cnn.com/video)\\\\n\\\\n* * *\\\\n\\\\n Edition \\\\n\\\\n[US](https://us.cnn.com/?hpt=header_edition-picker)\\\\n\\\\n[International](https://edition.cnn.com/?hpt=header_edition-picker)\\\\n\\\\n[Arabic](https://arabic.cnn.com/?hpt=header_edition-picker)\\\\n\\\\n[Español](https://cnnespanol.cnn.com/?hpt=header_edition-picker)\\\\n\\\\n Edition [...] [Football](https://edition.cnn.com/sport/football)[Tennis](https://edition.cnn.com/sport/tennis)[Golf](https://edition.cnn.com/sport/golf)[Motorsport](https://edition.cnn.com/sport/motorsport)[US Sports](https://edition.cnn.com/sport/us-sports)[Olympics](https://edition.cnn.com/sport/paris-olympics-2024)[Climbing](https://edition.cnn.com/sport/climbing)[Esports](https://edition.cnn.com/sport/esports)[Hockey](https://bleacherreport.com/nhl)\"}, {\"url\": \"https://en.wikipedia.org/wiki/UEFA_Euro_2024\", \"content\": \"| Fußball-Europameisterschaft 2024 *(in German)* | |\\\\n| --- | --- |\\\\n| *United by Football. Vereint im Herzen Europas.* *(United in the heart of Europe.)* | |\\\\n| Tournament details | |\\\\n| Host country | Germany |\\\\n| Dates | 14 June – 14 July |\\\\n| Teams | 24 |\\\\n| Venue(s) | 10\\xa0(in 10 host cities) |\\\\n| Final positions | |\\\\n| Champions | [Spain](/wiki/Spain_national_football_team \\\\\"Spain national football team\\\\\") (4th title) | [...] | [Runners-up](/wiki/UEFA_Euro_2024_final \\\\\"UEFA Euro 2024 final\\\\\") | * [England](/wiki/England_national_football_team \\\\\"England national football team\\\\\") |\\\\n| Eliminated in the [semi-finals](/wiki/UEFA_Euro_2024_knockout_phase#Semi-finals \\\\\"UEFA Euro 2024 knockout phase\\\\\") | * [France](/wiki/France_national_football_team \\\\\"France national football team\\\\\") * [Netherlands](/wiki/Netherlands_national_football_team \\\\\"Netherlands national football team\\\\\") | [...] [Switzerland](/wiki/Switzerland_national_football_team \\\\\"Switzerland national football team\\\\\") in the round of 16.[[4]](#cite_note-4) Host nation [Germany](/wiki/Germany_national_football_team \\\\\"Germany national football team\\\\\") were eliminated by [Spain](/wiki/Spain_national_football_team \\\\\"Spain national football team\\\\\") in the quarter-finals; Spain went on to win the tournament for a record fourth time after defeating England 2–1 in the [final](/wiki/UEFA_Euro_2024_final \\\\\"UEFA Euro 2024\"}, {\"url\": \"https://en.wikipedia.org/wiki/UEFA_Euro_2024_final\", \"content\": \"| Runners-up | * [England](/wiki/England_national_football_team \\\\\"England national football team\\\\\") |\\\\n| Eliminated in the [semi-finals](/wiki/UEFA_Euro_2024_knockout_phase#Semi-finals \\\\\"UEFA Euro 2024 knockout phase\\\\\") | * [France](/wiki/France_national_football_team \\\\\"France national football team\\\\\") * [Netherlands](/wiki/Netherlands_national_football_team \\\\\"Netherlands national football team\\\\\") | [...] In the knockout stage, Spain played the third-placed team from [Group F](/wiki/UEFA_Euro_2024_Group_F \\\\\"UEFA Euro 2024 Group F\\\\\") in the Round of 16, [Georgia](/wiki/Georgia_national_football_team \\\\\"Georgia national football team\\\\\") – who were making their European Championship debut – at the [RheinEnergieStadion](/wiki/RheinEnergieStadion \\\\\"RheinEnergieStadion\\\\\") where Spain won 4–1 with goals for the Spanish from [Rodri](/wiki/Rodri_(footballer,_born_1996) \\\\\"Rodri (footballer, born 1996)\\\\\") in the [...] 2020\\\\\")† * [Germany 2024](/wiki/UEFA_Euro_2024 \\\\\"UEFA Euro 2024\\\\\") * *[United Kingdom / Ireland 2028](/wiki/UEFA_Euro_2028 \\\\\"UEFA Euro 2028\\\\\")* * *[Italy / Turkey 2032](/wiki/UEFA_Euro_2032 \\\\\"UEFA Euro 2032\\\\\")* |\"}]', name='tavily_search_results_json', tool_call_id='call_s3y2')]}}\n",
      "----\n",
      "{'agent': {'messages': [AIMessage(content='The winner of the 2024 soccer Eurocup is Spain. They defeated England 2-1 in the final to claim their record fourth European Championship title.', response_metadata={'token_usage': {'completion_tokens': 33, 'prompt_tokens': 1544, 'total_tokens': 1577, 'completion_time': 0.048726152, 'prompt_time': 0.095171619, 'queue_time': 0.04742880100000001, 'total_time': 0.143897771}, 'model_name': 'llama-3.1-8b-instant', 'system_fingerprint': 'fp_510c177af0', 'finish_reason': 'stop', 'logprobs': None}, id='run-5013e9d8-025d-4f82-8d89-4c57364a5601-0', usage_metadata={'input_tokens': 1544, 'output_tokens': 33, 'total_tokens': 1577})]}}\n",
      "----\n"
     ]
    }
   ],
   "source": [
    "for chunk in agent.stream(\n",
    "    {\"messages\": [HumanMessage(content=\"Who won the 2024 soccer Eurocup?\")]}, config\n",
    "):\n",
    "    print(chunk)\n",
    "    print(\"----\")"
   ]
  },
  {
   "cell_type": "code",
   "execution_count": 22,
   "id": "65956b8f",
   "metadata": {},
   "outputs": [
    {
     "name": "stdout",
     "output_type": "stream",
     "text": [
      "{'agent': {'messages': [AIMessage(content='', additional_kwargs={'tool_calls': [{'id': 'call_0gyn', 'function': {'arguments': '{\"query\":\"2024 Eurocup Spain team top stars\"}', 'name': 'tavily_search_results_json'}, 'type': 'function'}]}, response_metadata={'token_usage': {'completion_tokens': 25, 'prompt_tokens': 1596, 'total_tokens': 1621, 'completion_time': 0.036925688, 'prompt_time': 0.098367654, 'queue_time': 0.047185956, 'total_time': 0.135293342}, 'model_name': 'llama-3.1-8b-instant', 'system_fingerprint': 'fp_510c177af0', 'finish_reason': 'tool_calls', 'logprobs': None}, id='run-521d28dc-acf6-42ed-9152-700cd7e1e9e9-0', tool_calls=[{'name': 'tavily_search_results_json', 'args': {'query': '2024 Eurocup Spain team top stars'}, 'id': 'call_0gyn', 'type': 'tool_call'}], usage_metadata={'input_tokens': 1596, 'output_tokens': 25, 'total_tokens': 1621})]}}\n",
      "----\n",
      "{'tools': {'messages': [ToolMessage(content='[{\"url\": \"https://www.uefa.com/euro2024/teams/122--spain/squad/\", \"content\": \"Yamal ESP](https://www.uefa.com/euro2024/teams/players/250176450--lamine-yamal/ \\\\\"Lamine Yamal\\\\\")ESP 17 7 1 22 [Jesús Navas Jesús Navas ESP](https://www.uefa.com/euro2024/teams/players/69173--jesus-navas/ \\\\\"Jesús Navas\\\\\")ESP 39 3 \\\\\\\\- 25 [Fermín López Fermín López ESP](https://www.uefa.com/euro2024/teams/players/250164780--fermin-lopez/ \\\\\"Fermín López\\\\\")ESP 22 1 \\\\\\\\- 26 [Ayoze Pérez Pérez ESP](https://www.uefa.com/euro2024/teams/players/250075625--ayoze-perez/ \\\\\"Ayoze Pérez\\\\\")ESP 31 1 \\\\\\\\- [...] 7 [Álvaro Morata Morata ESP](https://www.uefa.com/euro2024/teams/players/250024456--alvaro-morata/ \\\\\"Álvaro Morata\\\\\")ESP 32 7 1 9 [Joselu Joselu ESP](https://www.uefa.com/euro2024/teams/players/250005193--joselu/ \\\\\"Joselu\\\\\")ESP 35 2 \\\\\\\\- 10 [Dani Olmo Olmo ESP](https://www.uefa.com/euro2024/teams/players/250081720--dani-olmo/ \\\\\"Dani Olmo\\\\\")ESP 27 6 3 11 [Ferran Torres Ferran Torres ESP](https://www.uefa.com/euro2024/teams/players/250088320--ferran-torres/ \\\\\"Ferran Torres\\\\\")ESP 25 5 1 19 [Lamine Yamal [...] Williams ESP](https://www.uefa.com/euro2024/teams/players/250163185--nico-williams/ \\\\\"Nico Williams\\\\\")ESP 22 6 2 18 [Martin Zubimendi Zubimendi ESP](https://www.uefa.com/euro2024/teams/players/250143679--martin-zubimendi/ \\\\\"Martin Zubimendi\\\\\")ESP 26 4 \\\\\\\\- 20 [Pedri Pedri ESP](https://www.uefa.com/euro2024/teams/players/250143693--pedri/ \\\\\"Pedri\\\\\")ESP 22 4 \\\\\\\\- 21 [Mikel Oyarzabal Oyarzabal ESP](https://www.uefa.com/euro2024/teams/players/250097180--mikel-oyarzabal/ \\\\\"Mikel Oyarzabal\\\\\")ESP 28 7 1\"}, {\"url\": \"https://www.fourfourtwo.com/features/spain-euro-2024-squad-team-line-up-players-germany\", \"content\": \"Rodri, Fabian Ruiz, Nico Williams, Lamine Yamal, Dani Olmo and Aymeric Laporte have all shown just how good they are.\"}, {\"url\": \"https://www.espn.com/soccer/story/_/id/40545270/why-spain-most-entertaining-team-euro-2024\", \"content\": \"There is experience in age, but not in caps; only Rodri, Álvaro Morata and Jesús Navas have made over 50 appearances. Surprisingly, this is Real\"}]', name='tavily_search_results_json', tool_call_id='call_0gyn')]}}\n",
      "----\n",
      "{'agent': {'messages': [AIMessage(content=\"Some of the top stars of the Spain team that won the 2024 Eurocup include:\\n\\n1. Rodri\\n2. Dani Olmo\\n3. Álvaro Morata\\n4. Jesús Navas\\n5. Nico Williams\\n6. Lamine Yamal\\n7. Aymeric Laporte\\n\\nThese players have shown exceptional skills and contributions to the team's success in the tournament.\", response_metadata={'token_usage': {'completion_tokens': 83, 'prompt_tokens': 2409, 'total_tokens': 2492, 'completion_time': 0.122892072, 'prompt_time': 0.150058205, 'queue_time': 0.04762893500000001, 'total_time': 0.272950277}, 'model_name': 'llama-3.1-8b-instant', 'system_fingerprint': 'fp_510c177af0', 'finish_reason': 'stop', 'logprobs': None}, id='run-affee270-8624-4e79-8bd0-09dcf5088897-0', usage_metadata={'input_tokens': 2409, 'output_tokens': 83, 'total_tokens': 2492})]}}\n",
      "----\n"
     ]
    }
   ],
   "source": [
    "for chunk in agent.stream(\n",
    "    {\"messages\": [HumanMessage(content=\"Who were the top stars of that winner team?\")]}, config\n",
    "):\n",
    "    print(chunk)\n",
    "    print(\"----\")"
   ]
  },
  {
   "cell_type": "code",
   "execution_count": null,
   "id": "3c9ef661",
   "metadata": {},
   "outputs": [],
   "source": []
  }
 ],
 "metadata": {
  "kernelspec": {
   "display_name": "langGraphAgents",
   "language": "python",
   "name": "python3"
  },
  "language_info": {
   "codemirror_mode": {
    "name": "ipython",
    "version": 3
   },
   "file_extension": ".py",
   "mimetype": "text/x-python",
   "name": "python",
   "nbconvert_exporter": "python",
   "pygments_lexer": "ipython3",
   "version": "3.11.13"
  }
 },
 "nbformat": 4,
 "nbformat_minor": 5
}
