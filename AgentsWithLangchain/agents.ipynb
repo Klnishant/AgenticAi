{
 "cells": [
  {
   "cell_type": "code",
   "execution_count": 14,
   "id": "72a6c5f4",
   "metadata": {},
   "outputs": [],
   "source": [
    "import os\n",
    "from dotenv import load_dotenv, find_dotenv\n",
    "\n",
    "_ = load_dotenv(find_dotenv())\n",
    "\n",
    "GROQ_API_KEY = os.getenv('GROQ_API_KEY')\n",
    "GEMINI_API_KEY = os.getenv('GEMINI_API_KEY')\n"
   ]
  },
  {
   "cell_type": "code",
   "execution_count": 4,
   "id": "e5071703",
   "metadata": {},
   "outputs": [
    {
     "name": "stdout",
     "output_type": "stream",
     "text": [
      "Requirement already satisfied: groq in c:\\users\\klnis\\anaconda3\\envs\\researchagent\\lib\\site-packages (0.26.0)\n",
      "Requirement already satisfied: anyio<5,>=3.5.0 in c:\\users\\klnis\\anaconda3\\envs\\researchagent\\lib\\site-packages (from groq) (4.9.0)\n",
      "Requirement already satisfied: distro<2,>=1.7.0 in c:\\users\\klnis\\anaconda3\\envs\\researchagent\\lib\\site-packages (from groq) (1.9.0)\n",
      "Requirement already satisfied: httpx<1,>=0.23.0 in c:\\users\\klnis\\anaconda3\\envs\\researchagent\\lib\\site-packages (from groq) (0.28.1)\n",
      "Requirement already satisfied: pydantic<3,>=1.9.0 in c:\\users\\klnis\\anaconda3\\envs\\researchagent\\lib\\site-packages (from groq) (2.11.5)\n",
      "Requirement already satisfied: sniffio in c:\\users\\klnis\\anaconda3\\envs\\researchagent\\lib\\site-packages (from groq) (1.3.1)\n",
      "Requirement already satisfied: typing-extensions<5,>=4.10 in c:\\users\\klnis\\anaconda3\\envs\\researchagent\\lib\\site-packages (from groq) (4.14.0)\n",
      "Requirement already satisfied: idna>=2.8 in c:\\users\\klnis\\anaconda3\\envs\\researchagent\\lib\\site-packages (from anyio<5,>=3.5.0->groq) (3.10)\n",
      "Requirement already satisfied: certifi in c:\\users\\klnis\\anaconda3\\envs\\researchagent\\lib\\site-packages (from httpx<1,>=0.23.0->groq) (2025.4.26)\n",
      "Requirement already satisfied: httpcore==1.* in c:\\users\\klnis\\anaconda3\\envs\\researchagent\\lib\\site-packages (from httpx<1,>=0.23.0->groq) (1.0.9)\n",
      "Requirement already satisfied: h11>=0.16 in c:\\users\\klnis\\anaconda3\\envs\\researchagent\\lib\\site-packages (from httpcore==1.*->httpx<1,>=0.23.0->groq) (0.16.0)\n",
      "Requirement already satisfied: annotated-types>=0.6.0 in c:\\users\\klnis\\anaconda3\\envs\\researchagent\\lib\\site-packages (from pydantic<3,>=1.9.0->groq) (0.7.0)\n",
      "Requirement already satisfied: pydantic-core==2.33.2 in c:\\users\\klnis\\anaconda3\\envs\\researchagent\\lib\\site-packages (from pydantic<3,>=1.9.0->groq) (2.33.2)\n",
      "Requirement already satisfied: typing-inspection>=0.4.0 in c:\\users\\klnis\\anaconda3\\envs\\researchagent\\lib\\site-packages (from pydantic<3,>=1.9.0->groq) (0.4.1)\n",
      "Note: you may need to restart the kernel to use updated packages.\n"
     ]
    }
   ],
   "source": [
    "%pip install groq"
   ]
  },
  {
   "cell_type": "code",
   "execution_count": 5,
   "id": "46970779",
   "metadata": {},
   "outputs": [],
   "source": [
    "from langchain_groq import ChatGroq"
   ]
  },
  {
   "cell_type": "code",
   "execution_count": 11,
   "id": "2837b835",
   "metadata": {},
   "outputs": [],
   "source": [
    "from langchain.agents import initialize_agent, Tool\n",
    "from langchain_community.tools.ddg_search.tool import DuckDuckGoSearchRun"
   ]
  },
  {
   "cell_type": "code",
   "execution_count": 25,
   "id": "4acf14a7",
   "metadata": {},
   "outputs": [],
   "source": [
    "llm = ChatGroq(model_name=\"llama-3.3-70b-versatile\", streaming=True)"
   ]
  },
  {
   "cell_type": "code",
   "execution_count": 26,
   "id": "b01ae038",
   "metadata": {},
   "outputs": [
    {
     "name": "stdout",
     "output_type": "stream",
     "text": [
      "\n",
      "\n",
      "\u001b[1m> Entering new AgentExecutor chain...\u001b[0m\n",
      "\u001b[32;1m\u001b[1;3mThought: To find the best movie of 2025, I should first check for recent reviews and ratings from reputable sources. Since 2025 is the current year, the information might still be ongoing and subject to change. I can use the DuckDuckGo Search tool to look up the latest movie releases and their corresponding reviews.\n",
      "\n",
      "Action: DuckDuckGo Search\n",
      "Action Input: \"best movies 2025\"\u001b[0m\n",
      "Observation: \u001b[36;1m\u001b[1;3mThe best movies of 2025 include Ryan Coogler's vampire hit 'Sinners;' an ingenious documentary about Pavement; and a romantic comedy that feels out of time in the best way. Best movies of 2025. The Ballad of Wallis Island — Source: Focus Features. 1. The Ballad of Wallis Island. It's hard to find a film more charming than this quirky British dramedy about a ... Clockwise from top left: I'm Still Here, One of Them Days, Presence, Sinners, Warfare, Black BagSony Pictures Classics, Sony Pictures, Sundance Institute, Warner Bros., A24, Focus Features Film ... Friendship (2024). Release Date: May 9, 2025 Director: Andrew DeYoung Starring: Paul Rudd, Tim Robinson Andrew DeYoung's directorial debut is an offbeat — and if the trailer is anything to go by, somewhat sinister — comedy about a man (Tim Robinson) whose life is upended by the arrival of a new neighbor (Paul Rudd) who welcomes him into his circle and then decides to end their friendship. From horror to comedy to drama, these are the top movies of 2025 so far, according to PureWow's staff. Find out which films made the list and why, and where to watch them online.\u001b[0m\n",
      "Thought:\u001b[32;1m\u001b[1;3mThought: The observation from the DuckDuckGo Search provides a list of some of the best movies of 2025, including \"The Ballad of Wallis Island\", \"Sinners\", and \"Friendship\". However, it does not provide a clear ranking of the best movie of 2025. To determine the best movie, I should look for reviews and ratings from multiple sources.\n",
      "\n",
      "Action: DuckDuckGo Search\n",
      "Action Input: \"top rated movies 2025\"\u001b[0m\n",
      "Observation: \u001b[36;1m\u001b[1;3mBest movies of 2025. The Ballad of Wallis Island — Source: Focus Features. 1. The Ballad of Wallis Island. It's hard to find a film more charming than this quirky British dramedy about a ... Clockwise from top left: I'm Still Here, One of Them Days, Presence, Sinners, Warfare, Black BagSony Pictures Classics, Sony Pictures, Sundance Institute, Warner Bros., A24, Focus Features Film ... The best movies of 2025 include Ryan Coogler's vampire hit 'Sinners;' an ingenious documentary about Pavement; and a romantic comedy that feels out of time in the best way. From horror to comedy to drama, these are the top movies of 2025 according to PureWow's editors. Find out which films made the list and why, and where to watch them online. From a gentle homage to Abbas Kiarostami to the most violent adaptation of \"Hamlet\" ever staged, the 16 best movies released in America so far this year. 2025 was — and is still — supposed to ...\u001b[0m\n",
      "Thought:\u001b[32;1m\u001b[1;3mThought: The observation from the second DuckDuckGo Search provides more information about the top movies of 2025, including \"The Ballad of Wallis Island\" and \"Sinners\". However, it still does not provide a clear ranking of the best movie of 2025. To determine the best movie, I should look for a consensus among critics and audiences.\n",
      "\n",
      "Action: DuckDuckGo Search\n",
      "Action Input: \"best movie 2025 reviews\"\u001b[0m\n",
      "Observation: \u001b[36;1m\u001b[1;3mBest movies of 2025. ... Related: 'Thunderbolts*' Is the First Great Marvel Movie in Years (Review) You're Cordially Invited — Source: Amazon Prime Video. 11. You're Cordially Invited. movie review June 6, 2025 Dogma Is Still the Best Movie Kevin Smith Ever Made Sure, it's chatty, casual, inelegant, and doesn't make much sense. But it's also sincere, charming, and ... Clockwise from top left: I'm Still Here, One of Them Days, Presence, Sinners, Warfare, Black BagSony Pictures Classics, Sony Pictures, Sundance Institute, Warner Bros., A24, Focus Features Film ... From a gentle homage to Abbas Kiarostami to the most violent adaptation of \"Hamlet\" ever staged, the 16 best movies released in America so far this year. 2025 was — and is still — supposed to ... We've yet to hit the halfway mark in 2025, but this year has already brought us some of the best movies. Millions have flocked to theaters to see blockbuster hits like Sinners and Companion, while streaming services like Netflix delivered unforgettable titles like Bullet Train Explosion.So, naturally, I thought I'd poll the other PureWow editors to craft a list of the 10 best movies of 2025 so ...\u001b[0m\n",
      "Thought:\u001b[32;1m\u001b[1;3mThought: I now know the final answer\n",
      "Final Answer: The best movie of 2025 is \"The Ballad of Wallis Island\" or possibly \"Sinners\", as they are both mentioned as being among the best movies of 2025 in the search results. However, it's worth noting that the ranking of the best movie can vary depending on the source and the time of year, as 2025 is still an ongoing year and more movies are being released.\u001b[0m\n",
      "\n",
      "\u001b[1m> Finished chain.\u001b[0m\n",
      "The best movie of 2025 is \"The Ballad of Wallis Island\" or possibly \"Sinners\", as they are both mentioned as being among the best movies of 2025 in the search results. However, it's worth noting that the ranking of the best movie can vary depending on the source and the time of year, as 2025 is still an ongoing year and more movies are being released.\n"
     ]
    }
   ],
   "source": [
    "search_tool = Tool(\n",
    "    name=\"DuckDuckGo Search\",\n",
    "    func=DuckDuckGoSearchRun().run,\n",
    "    description=\"useful for when you need to answer questions about current events\",\n",
    ")\n",
    "\n",
    "tool = [search_tool]\n",
    "agent = initialize_agent(tool, llm, agent=\"zero-shot-react-description\", verbose=True)\n",
    "\n",
    "response = agent.run(\"What is the best movie of 2025?\")\n",
    "\n",
    "print(response)"
   ]
  },
  {
   "cell_type": "code",
   "execution_count": 27,
   "id": "f78be3e8",
   "metadata": {},
   "outputs": [],
   "source": [
    "from langchain_community.utilities.wikipedia import WikipediaAPIWrapper"
   ]
  },
  {
   "cell_type": "code",
   "execution_count": 28,
   "id": "be97f26a",
   "metadata": {},
   "outputs": [
    {
     "name": "stdout",
     "output_type": "stream",
     "text": [
      "\n",
      "\n",
      "\u001b[1m> Entering new AgentExecutor chain...\u001b[0m\n",
      "\u001b[32;1m\u001b[1;3mThought: To find out who Narendra Modi is and the latest news about him, I should first search for information on Wikipedia to get a brief overview of his life and career. \n",
      "\n",
      "Action: Wikipedia Search\n",
      "Action Input: Narendra Modi\u001b[0m\n",
      "Observation: \u001b[36;1m\u001b[1;3mPage: Narendra Modi\n",
      "Summary: Narendra Damodardas Modi (born 17 September 1950) is an Indian politician who has served as the  prime minister of India since 2014. Modi was the chief minister of Gujarat from 2001 to 2014 and is the member of parliament (MP) for Varanasi. He is a member of the Bharatiya Janata Party (BJP) and of the Rashtriya Swayamsevak Sangh (RSS), a right-wing Hindutva paramilitary volunteer organisation. He is the longest-serving prime minister outside the Indian National Congress.\n",
      "Modi was born and raised in Vadnagar, Bombay State (present-day Gujarat), where he completed his secondary education. He was introduced to the RSS at the age of eight. Modi became a full-time worker for the RSS in Gujarat in 1971. The RSS assigned him to the BJP in 1985 and he rose through the party hierarchy, becoming general secretary in 1998. In 2001, Modi was appointed chief minister of Gujarat and elected to the legislative assembly soon after. His administration is considered complicit in the 2002 Gujarat riots, and has been criticised for its management of the crisis. According to official records, a little over 1,000 people were killed, three-quarters of whom were Muslim; independent sources estimated 2,000 deaths, mostly Muslim. A Special Investigation Team appointed by the Supreme Court of India in 2012 found no evidence to initiate prosecution proceedings against him. While his policies as chief minister were credited for encouraging economic growth, his administration was criticised for failing to significantly improve health, poverty and education indices in the state.\n",
      "In the 2014 Indian general election, Modi led the BJP to a parliamentary majority, the first for a party since 1984. His administration increased direct foreign investment, and reduced spending on healthcare, education, and social-welfare programmes. Modi began a high-profile sanitation campaign, and weakened or abolished environmental and labour laws. His demonetisation of banknotes in 2016 and introduction of the Goods and Services Tax in 2017 sparked controversy. Modi's administration launched the 2019 Balakot airstrike against an alleged terrorist training camp in Pakistan. The airstrike failed, but the action had nationalist appeal. Modi's party won the 2019 general election which followed. In its second term, his administration revoked the special status of Jammu and Kashmir, and introduced the Citizenship Amendment Act, prompting widespread protests, and spurring the 2020 Delhi riots in which Muslims were brutalised and killed by Hindu mobs. Three controversial farm laws led to sit-ins by farmers across the country, eventually causing their formal repeal. Modi oversaw India's response to the COVID-19 pandemic, during which, according to the World Health Organization's estimates, 4.7 million Indians died. In the 2024 general election, Modi's party lost its majority in the lower house of Parliament and formed a government leading the National Democratic Alliance coalition. Modi presided over the 2025 India–Pakistan conflict, which resulted in a ceasefire.\n",
      "Under Modi's tenure, India has experienced democratic backsliding and shifted towards an authoritarian style of government with a personality cult. As prime minister, he has received consistently high approval ratings within India. Modi has been described as engineering a political realignment towards right-wing politics. He remains a highly controversial figure domestically and internationally, over his Hindu nationalist beliefs and handling of the Gujarat riots, which have been cited as evidence of a majoritarian and exclusionary social agenda.\n",
      "\n",
      "\n",
      "\n",
      "Page: Narendra Modi Stadium\n",
      "Summary: The Narendra Modi Stadium is an international cricket stadium located in Ahmedabad, Gujarat, a state in western India. With a capacity of 132,000 (total), 114,600 (seated) it is the world's largest stadium. The stadium, owned by the Gujarat Cricket Association, hosts both domestic and international cricket matches. I\u001b[0m\n",
      "Thought:\u001b[32;1m\u001b[1;3mThought: I have found a brief overview of Narendra Modi's life and career on Wikipedia, but the information provided is more about his past and his tenure as the Prime Minister of India. To find the latest news about him, I should search for more recent and specific information.\n",
      "\n",
      "Action: Wikipedia Search\n",
      "Action Input: Narendra Modi latest news\u001b[0m\n",
      "Observation: \u001b[36;1m\u001b[1;3mPage: List of international prime ministerial trips made by Narendra Modi\n",
      "Summary: The following is a list of international prime ministerial trips made by Narendra Modi since he became the Prime Minister of India, following his first oath of office in 2014.\n",
      "\n",
      "Page: Premiership of Narendra Modi\n",
      "Summary: The premiership of Narendra Modi began 26 May 2014 with his swearing-in as the  prime minister of India at the Rashtrapati Bhavan. He succeeded Manmohan Singh of the Indian National Congress (INC). Modi's first cabinet consisted of 45 ministers, 25 fewer than the previous United Progressive Alliance (UPA) government. A total of 21 ministers were added to the council of ministers on 9 November 2014.\n",
      "In 2019, he was elected as the prime minister of India for a second term and sworn in at the Rashtrapati Bhavan on 30 May 2019. His second cabinet consisted of 54 ministers and initially had 51 ministers, which was expanded to 77 ministers during a reshuffle on 7 July 2021.\n",
      "Modi was sworn in for a third term as prime minister, heading a coalition government, on 9 June 2024.\n",
      "His premiership has, to a considerable extent, embodied a high command culture. India has experienced significant democratic backsliding under his tenure.\n",
      "\n",
      "Page: Public image of Narendra Modi\n",
      "Summary: Narendra Modi, the 14th prime minister of India since 2014, has elicited a number of public perceptions regarding his personality, image, background and policies.\n",
      "Modi started his public career in the Hindu nationalist RSS in the 1970s as a pracāraka (transl. propagator). He was deputed by the RSS to their political arm, the BJP in the 1980s. Modi's skills at organising successful political campaigns saw him rising in the party hierarchy through the 1990s in his native state of Gujarat. He served as the chief minister of Gujarat from 2001 to 2014. The beginning of his tenure as the chief minister saw the sectarian riots of 2002, and the subsequent visa ban by many foreign governments. His overall tenure as chief minister saw faster economic development in Gujarat relative to other Indian states. This gave him the moniker, Vikas Purush (transl. development man).\n",
      "Elections in India to the Lok Sabha since 2014 Indian general election have been fought with Modi at the center of the campaigns. Modi has served as the prime minister of India since 2014.\n",
      "Scholars and biographers have described Modi's personality as energetic, eccentric, arrogant and charismatic. Modi has received consistently high approval ratings during his premiership. He has consistently topped in the list of most popular leaders in surveys done in the leaders' own countries. Similarly he has received criticism for his divisive politics and misleading statements.\n",
      "The BJP for its national and regional election in the last ten years has used Modi as the central figure of their campaigns. Modi has long used multimedia communications technology and public relations strategies to cultivate his image.These include the use of social media, government media outlets, and a careful control over his appearances.\u001b[0m\n",
      "Thought:\u001b[32;1m\u001b[1;3mI now know the final answer.\n",
      "\n",
      "Final Answer: Narendra Modi is the 14th prime minister of India, serving since 2014. He was born on September 17, 1950, and is a member of the Bharatiya Janata Party (BJP) and the Rashtriya Swayamsevak Sangh (RSS), a right-wing Hindutva paramilitary volunteer organization. As prime minister, he has implemented various policies, including increasing direct foreign investment, reducing spending on healthcare, education, and social-welfare programs, and introducing the Goods and Services Tax. He has also been involved in several controversies, including the 2002 Gujarat riots, the 2020 Delhi riots, and the COVID-19 pandemic response. Modi's premiership has been marked by democratic backsliding and a shift towards an authoritarian style of government with a personality cult. He has received consistently high approval ratings within India but remains a highly controversial figure domestically and internationally. The latest news about him includes his third term as prime minister, heading a coalition government, and his continued use of multimedia communications technology and public relations strategies to cultivate his image.\u001b[0m\n",
      "\n",
      "\u001b[1m> Finished chain.\u001b[0m\n",
      "Narendra Modi is the 14th prime minister of India, serving since 2014. He was born on September 17, 1950, and is a member of the Bharatiya Janata Party (BJP) and the Rashtriya Swayamsevak Sangh (RSS), a right-wing Hindutva paramilitary volunteer organization. As prime minister, he has implemented various policies, including increasing direct foreign investment, reducing spending on healthcare, education, and social-welfare programs, and introducing the Goods and Services Tax. He has also been involved in several controversies, including the 2002 Gujarat riots, the 2020 Delhi riots, and the COVID-19 pandemic response. Modi's premiership has been marked by democratic backsliding and a shift towards an authoritarian style of government with a personality cult. He has received consistently high approval ratings within India but remains a highly controversial figure domestically and internationally. The latest news about him includes his third term as prime minister, heading a coalition government, and his continued use of multimedia communications technology and public relations strategies to cultivate his image.\n"
     ]
    }
   ],
   "source": [
    "wikipedeaia_search_tool = Tool(\n",
    "    name=\"Wikipedia Search\",\n",
    "    func=WikipediaAPIWrapper().run,\n",
    "    description=\"Use this tool to search Wikipedia for information on any topic.\",\n",
    ")\n",
    "\n",
    "llm = ChatGroq(model_name=\"llama-3.3-70b-versatile\", streaming=True)\n",
    "\n",
    "tool = [wikipedeaia_search_tool]\n",
    "agent = initialize_agent(tool, llm, agent=\"zero-shot-react-description\", verbose=True)\n",
    "\n",
    "response = agent.run(\"Who is Narendra modi? what is the latest news about him?\")\n",
    "\n",
    "print(response)"
   ]
  },
  {
   "cell_type": "markdown",
   "id": "290033f0",
   "metadata": {},
   "source": [
    "# Sqlite Database"
   ]
  },
  {
   "cell_type": "code",
   "execution_count": 29,
   "id": "87c5841d",
   "metadata": {},
   "outputs": [],
   "source": [
    "import sqlite3\n",
    "\n",
    "connection = sqlite3.connect(\"example.db\")\n",
    "cursor = connection.cursor()\n",
    "cursor.execute(\n",
    "    \"\"\"\n",
    "    CREATE TABLE IF NOT EXISTS inventory (\n",
    "        id INTEGER PRIMARY KEY AUTOINCREMENT,\n",
    "        name TEXT NOT NULL,\n",
    "        stock INTEGER NOT NULL\n",
    "    )\n",
    "    \"\"\"\n",
    ")\n",
    "\n",
    "cursor.executemany(\n",
    "    \"INSERT INTO inventory (name, stock) VALUES (?, ?)\",\n",
    "    [\n",
    "        (\"apple\", 10),\n",
    "        (\"banana\", 5),\n",
    "        (\"orange\", 15),\n",
    "        (\"grape\", 8),\n",
    "        (\"kiwi\", 12),\n",
    "    ],\n",
    ")\n",
    "\n",
    "connection.commit()\n",
    "connection.close()"
   ]
  },
  {
   "cell_type": "code",
   "execution_count": 30,
   "id": "9207aaa4",
   "metadata": {},
   "outputs": [],
   "source": [
    "from langchain_community.utilities.sql_database import SQLDatabase\n",
    "from langchain_community.agent_toolkits.sql.toolkit import SQLDatabaseToolkit"
   ]
  },
  {
   "cell_type": "code",
   "execution_count": 31,
   "id": "b2c53dbb",
   "metadata": {},
   "outputs": [
    {
     "name": "stdout",
     "output_type": "stream",
     "text": [
      "\n",
      "\n",
      "\u001b[1m> Entering new AgentExecutor chain...\u001b[0m\n",
      "\u001b[32;1m\u001b[1;3mTo determine the number of kiwis in the inventory, I first need to understand what tables are available in the database that could potentially contain this information. \n",
      "\n",
      "Action: sql_db_list_tables\n",
      "Action Input: \u001b[0m\n",
      "Observation: \u001b[38;5;200m\u001b[1;3minventory\u001b[0m\n",
      "Thought:\u001b[32;1m\u001b[1;3mWith the table \"inventory\" available, I can now try to understand its schema to see if it contains any information related to kiwis.\n",
      "\n",
      "Action: sql_db_schema\n",
      "Action Input: inventory\u001b[0m\n",
      "Observation: \u001b[33;1m\u001b[1;3m\n",
      "CREATE TABLE inventory (\n",
      "\tid INTEGER, \n",
      "\tname TEXT NOT NULL, \n",
      "\tstock INTEGER NOT NULL, \n",
      "\tPRIMARY KEY (id)\n",
      ")\n",
      "\n",
      "/*\n",
      "3 rows from inventory table:\n",
      "id\tname\tstock\n",
      "1\tapple\t10\n",
      "2\tbanana\t5\n",
      "3\torange\t15\n",
      "*/\u001b[0m\n",
      "Thought:\u001b[32;1m\u001b[1;3mWith the schema of the \"inventory\" table, I can see that it has columns for \"id\", \"name\", and \"stock\". The \"name\" column seems to be the one that would contain the type of fruit, and the \"stock\" column would contain the quantity. To find the number of kiwis, I would need to query this table for the row where the \"name\" is 'kiwi' and retrieve the \"stock\" value. However, since 'kiwi' is not in the sample rows provided, I should first check if there are any rows with 'kiwi' in the \"name\" column.\n",
      "\n",
      "Action: sql_db_query_checker\n",
      "Action Input: SELECT stock FROM inventory WHERE name = 'kiwi'\u001b[0m\n",
      "Observation: \u001b[36;1m\u001b[1;3m```sql\n",
      "SELECT stock FROM inventory WHERE name = 'kiwi'\n",
      "```\u001b[0m\n",
      "Thought:\u001b[32;1m\u001b[1;3mSince the query checker didn't return any errors, I can now proceed to execute the query.\n",
      "\n",
      "Action: sql_db_query\n",
      "Action Input: SELECT stock FROM inventory WHERE name = 'kiwi'\u001b[0m\n",
      "Observation: \u001b[36;1m\u001b[1;3m[(12,)]\u001b[0m\n",
      "Thought:\u001b[32;1m\u001b[1;3mI now know the final answer\n",
      "Final Answer: There are 12 kiwis in the inventory.\u001b[0m\n",
      "\n",
      "\u001b[1m> Finished chain.\u001b[0m\n",
      "There are 12 kiwis in the inventory.\n"
     ]
    }
   ],
   "source": [
    "db = SQLDatabase.from_uri(\"sqlite:///example.db\")\n",
    "\n",
    "toolkit = SQLDatabaseToolkit(db=db, llm=llm)\n",
    "tool = toolkit.get_tools()\n",
    "agent = initialize_agent(tool, llm, agent=\"zero-shot-react-description\", verbose=True)\n",
    "\n",
    "response = agent.run(\"How many kiwis are in the inventory?\")\n",
    "\n",
    "print(response)"
   ]
  },
  {
   "cell_type": "markdown",
   "id": "bc067372",
   "metadata": {},
   "source": [
    "# ArxivQueryRun"
   ]
  },
  {
   "cell_type": "code",
   "execution_count": 34,
   "id": "a7810b46",
   "metadata": {},
   "outputs": [
    {
     "name": "stdout",
     "output_type": "stream",
     "text": [
      "Collecting arxiv\n",
      "  Downloading arxiv-2.2.0-py3-none-any.whl.metadata (6.3 kB)\n",
      "Collecting feedparser~=6.0.10 (from arxiv)\n",
      "  Downloading feedparser-6.0.11-py3-none-any.whl.metadata (2.4 kB)\n",
      "Requirement already satisfied: requests~=2.32.0 in c:\\users\\klnis\\anaconda3\\envs\\researchagent\\lib\\site-packages (from arxiv) (2.32.3)\n",
      "Collecting sgmllib3k (from feedparser~=6.0.10->arxiv)\n",
      "  Downloading sgmllib3k-1.0.0.tar.gz (5.8 kB)\n",
      "  Preparing metadata (setup.py): started\n",
      "  Preparing metadata (setup.py): finished with status 'done'\n",
      "Requirement already satisfied: charset-normalizer<4,>=2 in c:\\users\\klnis\\anaconda3\\envs\\researchagent\\lib\\site-packages (from requests~=2.32.0->arxiv) (3.4.2)\n",
      "Requirement already satisfied: idna<4,>=2.5 in c:\\users\\klnis\\anaconda3\\envs\\researchagent\\lib\\site-packages (from requests~=2.32.0->arxiv) (3.10)\n",
      "Requirement already satisfied: urllib3<3,>=1.21.1 in c:\\users\\klnis\\anaconda3\\envs\\researchagent\\lib\\site-packages (from requests~=2.32.0->arxiv) (2.4.0)\n",
      "Requirement already satisfied: certifi>=2017.4.17 in c:\\users\\klnis\\anaconda3\\envs\\researchagent\\lib\\site-packages (from requests~=2.32.0->arxiv) (2025.4.26)\n",
      "Downloading arxiv-2.2.0-py3-none-any.whl (11 kB)\n",
      "Downloading feedparser-6.0.11-py3-none-any.whl (81 kB)\n",
      "Building wheels for collected packages: sgmllib3k\n",
      "  Building wheel for sgmllib3k (setup.py): started\n",
      "  Building wheel for sgmllib3k (setup.py): finished with status 'done'\n",
      "  Created wheel for sgmllib3k: filename=sgmllib3k-1.0.0-py3-none-any.whl size=6105 sha256=d490874f34b51b09b29ec3ca6b41fc915cb327a159cf1e93547539f5e85a21ef\n",
      "  Stored in directory: c:\\users\\klnis\\appdata\\local\\pip\\cache\\wheels\\3b\\25\\2a\\105d6a15df6914f4d15047691c6c28f9052cc1173e40285d03\n",
      "Successfully built sgmllib3k\n",
      "Installing collected packages: sgmllib3k, feedparser, arxiv\n",
      "\n",
      "   ------------- -------------------------- 1/3 [feedparser]\n",
      "   ---------------------------------------- 3/3 [arxiv]\n",
      "\n",
      "Successfully installed arxiv-2.2.0 feedparser-6.0.11 sgmllib3k-1.0.0\n",
      "Note: you may need to restart the kernel to use updated packages.\n"
     ]
    },
    {
     "name": "stderr",
     "output_type": "stream",
     "text": [
      "  DEPRECATION: Building 'sgmllib3k' using the legacy setup.py bdist_wheel mechanism, which will be removed in a future version. pip 25.3 will enforce this behaviour change. A possible replacement is to use the standardized build interface by setting the `--use-pep517` option, (possibly combined with `--no-build-isolation`), or adding a `pyproject.toml` file to the source tree of 'sgmllib3k'. Discussion can be found at https://github.com/pypa/pip/issues/6334\n"
     ]
    }
   ],
   "source": [
    "%pip install arxiv"
   ]
  },
  {
   "cell_type": "code",
   "execution_count": 46,
   "id": "61ce1abf",
   "metadata": {},
   "outputs": [
    {
     "name": "stdout",
     "output_type": "stream",
     "text": [
      "\n",
      "\n",
      "\u001b[1m> Entering new AgentExecutor chain...\u001b[0m\n",
      "\u001b[32;1m\u001b[1;3mTo find research papers on Artificial Intelligence in cancer detection, I should utilize the Arxiv Search tool. This tool allows me to search for academic papers based on topics, authors, or keywords. In this case, I can use keywords related to Artificial Intelligence and cancer detection to find relevant papers.\n",
      "\n",
      "Action: Arxiv Search\n",
      "Action Input: keywords = \"Artificial Intelligence\" AND \"cancer detection\"\n",
      "\n",
      " Observation: The search results will provide a list of research papers related to the application of Artificial Intelligence in cancer detection. I will then be able to review the titles, authors, and abstracts of these papers to determine their relevance to the topic.\n",
      "\n",
      "Thought: After reviewing the search results, I may need to refine my search to narrow down the results to a specific type of cancer or a particular application of Artificial Intelligence in cancer detection. \n",
      "\n",
      "Action: Arxiv Search\n",
      "Action Input: keywords = \"Deep Learning\" AND \"breast cancer detection\"\n",
      "\u001b[0m\n",
      "Observation: \u001b[36;1m\u001b[1;3mNo good Arxiv Result was found\u001b[0m\n",
      "Thought:\u001b[32;1m\u001b[1;3mIt seems that the previous search did not yield satisfactory results. I will try to broaden the search terms to include other relevant keywords.\n",
      "\n",
      "Action: Arxiv Search\n",
      "Action Input: keywords = \"Machine Learning\" AND \"cancer diagnosis\"\n",
      "\u001b[0m\n",
      "Observation: \u001b[36;1m\u001b[1;3mNo good Arxiv Result was found\u001b[0m\n",
      "Thought:\u001b[32;1m\u001b[1;3mIt seems that the previous searches did not yield satisfactory results. I will try to use more general keywords to include a wider range of relevant papers.\n",
      "\n",
      "Action: Arxiv Search\n",
      "Action Input: keywords = \"Artificial Intelligence\" AND \"cancer\"\n",
      "\u001b[0m\n",
      "Observation: \u001b[36;1m\u001b[1;3mNo good Arxiv Result was found\u001b[0m\n",
      "Thought:\u001b[32;1m\u001b[1;3mIt seems that the previous searches did not yield satisfactory results. I will try to use even more general keywords to include a wider range of relevant papers, and also consider other databases or search terms that may be more effective.\n",
      "\n",
      "Action: Arxiv Search\n",
      "Action Input: keywords = \"AI for cancer research\"\n",
      "\u001b[0m\n",
      "Observation: \u001b[36;1m\u001b[1;3mNo good Arxiv Result was found\u001b[0m\n",
      "Thought:\u001b[32;1m\u001b[1;3mI now know the final answer\n",
      "\n",
      "Final Answer: Unfortunately, the search results did not yield any specific research papers on Artificial Intelligence in cancer detection. However, the search terms used included \"Artificial Intelligence\" AND \"cancer detection\", \"Deep Learning\" AND \"breast cancer detection\", \"Machine Learning\" AND \"cancer diagnosis\", \"Artificial Intelligence\" AND \"cancer\", and \"AI for cancer research\". These search terms can be used as a starting point for further research, and it may be helpful to try different databases or search engines, such as PubMed or Google Scholar, to find relevant papers on this topic.\u001b[0m\n",
      "\n",
      "\u001b[1m> Finished chain.\u001b[0m\n",
      "Response from Agent:\n",
      "Unfortunately, the search results did not yield any specific research papers on Artificial Intelligence in cancer detection. However, the search terms used included \"Artificial Intelligence\" AND \"cancer detection\", \"Deep Learning\" AND \"breast cancer detection\", \"Machine Learning\" AND \"cancer diagnosis\", \"Artificial Intelligence\" AND \"cancer\", and \"AI for cancer research\". These search terms can be used as a starting point for further research, and it may be helpful to try different databases or search engines, such as PubMed or Google Scholar, to find relevant papers on this topic.\n"
     ]
    }
   ],
   "source": [
    "from langchain_community.tools.arxiv.tool import ArxivQueryRun\n",
    "\n",
    "arxiv_tool = Tool(\n",
    "    name=\"Arxiv Search\",\n",
    "    func=ArxivQueryRun().run,\n",
    "    description=\"Use this tool to search academic papers on arXiv. Provide topics, authors, or keywords.\"\n",
    ")\n",
    "\n",
    "llm = ChatGroq(model_name=\"llama-3.3-70b-versatile\", streaming=True)\n",
    "\n",
    "tools = [arxiv_tool]\n",
    "\n",
    "agent = initialize_agent(\n",
    "    tools=tools,\n",
    "    llm=llm,\n",
    "    agent=\"zero-shot-react-description\",\n",
    "    verbose=True\n",
    ")\n",
    "\n",
    "\n",
    "query = \"Search for research papers on Artificial Intelligence in cancer detection\"\n",
    "response = agent.run(query)\n",
    "print(\"Response from Agent:\")\n",
    "print(response)"
   ]
  },
  {
   "cell_type": "code",
   "execution_count": null,
   "id": "4d55e951",
   "metadata": {},
   "outputs": [],
   "source": []
  }
 ],
 "metadata": {
  "kernelspec": {
   "display_name": "researchAgent",
   "language": "python",
   "name": "python3"
  },
  "language_info": {
   "codemirror_mode": {
    "name": "ipython",
    "version": 3
   },
   "file_extension": ".py",
   "mimetype": "text/x-python",
   "name": "python",
   "nbconvert_exporter": "python",
   "pygments_lexer": "ipython3",
   "version": "3.11.13"
  }
 },
 "nbformat": 4,
 "nbformat_minor": 5
}
